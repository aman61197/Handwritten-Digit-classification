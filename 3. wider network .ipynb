{
 "cells": [
  {
   "cell_type": "code",
   "execution_count": 2,
   "metadata": {},
   "outputs": [],
   "source": [
    "#import library\n",
    "import keras\n",
    "import pandas as pd\n",
    "import numpy as np\n",
    "import matplotlib.pyplot as plt\n",
    "from keras.models import Sequential\n",
    "from keras.layers import Dense\n",
    "from keras.datasets import mnist\n",
    "from keras.utils import to_categorical"
   ]
  },
  {
   "cell_type": "code",
   "execution_count": 3,
   "metadata": {},
   "outputs": [],
   "source": [
    "#data loading\n",
    "(x_train,y_train),(x_test,y_test) = mnist.load_data()"
   ]
  },
  {
   "cell_type": "code",
   "execution_count": 4,
   "metadata": {},
   "outputs": [],
   "source": [
    "#preparing image data\n",
    "x_train = x_train.reshape((60000,28*28)).astype('float32')/255\n",
    "x_test = x_test.reshape((10000,28*28)).astype('float32')/255\n",
    "#preparing labels\n",
    "y_train = to_categorical(y_train)\n",
    "y_test = to_categorical(y_test)"
   ]
  },
  {
   "cell_type": "code",
   "execution_count": 5,
   "metadata": {},
   "outputs": [],
   "source": [
    "#wider network than baseline model\n",
    "model = Sequential()\n",
    "model.add(Dense(1024,input_shape=(28*28,),activation='relu'))\n",
    "model.add(Dense(512,activation='relu'))\n",
    "model.add(Dense(10, activation='softmax'))\n",
    "model.compile(loss='categorical_crossentropy',optimizer='rmsprop',metrics=['accuracy'])"
   ]
  },
  {
   "cell_type": "code",
   "execution_count": 6,
   "metadata": {},
   "outputs": [
    {
     "name": "stdout",
     "output_type": "stream",
     "text": [
      "Epoch 1/5\n",
      "60000/60000 [==============================] - 18s 297us/step - loss: 0.2147 - acc: 0.9323\n",
      "Epoch 2/5\n",
      "60000/60000 [==============================] - 17s 285us/step - loss: 0.0784 - acc: 0.9760\n",
      "Epoch 3/5\n",
      "60000/60000 [==============================] - 17s 284us/step - loss: 0.0520 - acc: 0.9841\n",
      "Epoch 4/5\n",
      "60000/60000 [==============================] - 17s 287us/step - loss: 0.0376 - acc: 0.9884\n",
      "Epoch 5/5\n",
      "60000/60000 [==============================] - 17s 288us/step - loss: 0.0308 - acc: 0.9908\n"
     ]
    },
    {
     "data": {
      "text/plain": [
       "<keras.callbacks.History at 0x10affe7b8>"
      ]
     },
     "execution_count": 6,
     "metadata": {},
     "output_type": "execute_result"
    }
   ],
   "source": [
    "#model fitting\n",
    "model.fit(x_train,y_train,epochs=5,batch_size=128)"
   ]
  },
  {
   "cell_type": "code",
   "execution_count": 7,
   "metadata": {},
   "outputs": [
    {
     "name": "stdout",
     "output_type": "stream",
     "text": [
      "10000/10000 [==============================] - 2s 155us/step\n",
      "0.07754203088947588 0.9823\n"
     ]
    }
   ],
   "source": [
    "#evaluation on test data\n",
    "test_loss, test_accuracy = model.evaluate(x_test,y_test)\n",
    "print(test_loss,test_accuracy)"
   ]
  },
  {
   "cell_type": "code",
   "execution_count": 8,
   "metadata": {},
   "outputs": [],
   "source": [
    "#narrow network \n",
    "model2 = Sequential()\n",
    "model2.add(Dense(256,input_shape=(28*28,),activation='relu'))\n",
    "model2.add(Dense(128,activation='relu'))\n",
    "model2.add(Dense(10, activation='softmax'))\n",
    "model2.compile(loss='categorical_crossentropy',optimizer='rmsprop',metrics=['accuracy'])"
   ]
  },
  {
   "cell_type": "code",
   "execution_count": 9,
   "metadata": {},
   "outputs": [
    {
     "name": "stdout",
     "output_type": "stream",
     "text": [
      "Epoch 1/5\n",
      "60000/60000 [==============================] - 4s 67us/step - loss: 0.2573 - acc: 0.9223\n",
      "Epoch 2/5\n",
      "60000/60000 [==============================] - 4s 61us/step - loss: 0.0979 - acc: 0.9709\n",
      "Epoch 3/5\n",
      "60000/60000 [==============================] - 4s 67us/step - loss: 0.0646 - acc: 0.9800\n",
      "Epoch 4/5\n",
      "60000/60000 [==============================] - 4s 64us/step - loss: 0.0476 - acc: 0.9853\n",
      "Epoch 5/5\n",
      "60000/60000 [==============================] - 4s 62us/step - loss: 0.0354 - acc: 0.9888\n"
     ]
    },
    {
     "data": {
      "text/plain": [
       "<keras.callbacks.History at 0x117a36b70>"
      ]
     },
     "execution_count": 9,
     "metadata": {},
     "output_type": "execute_result"
    }
   ],
   "source": [
    "#model fitting\n",
    "model2.fit(x_train,y_train,epochs=5,batch_size=128)"
   ]
  },
  {
   "cell_type": "code",
   "execution_count": 10,
   "metadata": {},
   "outputs": [
    {
     "name": "stdout",
     "output_type": "stream",
     "text": [
      "10000/10000 [==============================] - 1s 53us/step\n",
      "0.07395676885856664 0.9793\n"
     ]
    }
   ],
   "source": [
    "#evaluation on test data\n",
    "test_loss, test_accuracy = model2.evaluate(x_test,y_test)\n",
    "print(test_loss,test_accuracy)"
   ]
  },
  {
   "cell_type": "markdown",
   "metadata": {},
   "source": [
    "Wider network with 2 hidden layers has more loss compare to increment in accuracy. Also, the narrow network is not giving the best results. So, the network with 2 hidden layers and 512, 256 neurons respectively is our best choice."
   ]
  }
 ],
 "metadata": {
  "kernelspec": {
   "display_name": "Python 3",
   "language": "python",
   "name": "python3"
  },
  "language_info": {
   "codemirror_mode": {
    "name": "ipython",
    "version": 3
   },
   "file_extension": ".py",
   "mimetype": "text/x-python",
   "name": "python",
   "nbconvert_exporter": "python",
   "pygments_lexer": "ipython3",
   "version": "3.6.5"
  }
 },
 "nbformat": 4,
 "nbformat_minor": 2
}
