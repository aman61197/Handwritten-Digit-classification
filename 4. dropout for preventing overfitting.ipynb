{
 "cells": [
  {
   "cell_type": "code",
   "execution_count": 5,
   "metadata": {},
   "outputs": [],
   "source": [
    "#import library\n",
    "import keras\n",
    "import pandas as pd\n",
    "import numpy as np\n",
    "import matplotlib.pyplot as plt\n",
    "from keras.models import Sequential\n",
    "from keras.layers import Dense, Dropout\n",
    "from keras.datasets import mnist\n",
    "from keras.utils import to_categorical"
   ]
  },
  {
   "cell_type": "code",
   "execution_count": 2,
   "metadata": {},
   "outputs": [],
   "source": [
    "#data loading\n",
    "(x_train,y_train),(x_test,y_test) = mnist.load_data()"
   ]
  },
  {
   "cell_type": "code",
   "execution_count": 3,
   "metadata": {},
   "outputs": [],
   "source": [
    "#preparing image data\n",
    "x_train = x_train.reshape((60000,28*28)).astype('float32')/255\n",
    "x_test = x_test.reshape((10000,28*28)).astype('float32')/255\n",
    "#preparing labels\n",
    "y_train = to_categorical(y_train)\n",
    "y_test = to_categorical(y_test)"
   ]
  },
  {
   "cell_type": "code",
   "execution_count": 12,
   "metadata": {},
   "outputs": [],
   "source": [
    "#network with dropout \n",
    "model = Sequential()\n",
    "model.add(Dense(512,input_shape=(28*28,),activation='relu'))\n",
    "model.add(Dropout(0.5))\n",
    "model.add(Dense(256,activation='relu'))\n",
    "model.add(Dropout(0.5))\n",
    "model.add(Dense(10, activation='softmax'))\n",
    "model.compile(loss='categorical_crossentropy',optimizer='rmsprop',metrics=['accuracy'])"
   ]
  },
  {
   "cell_type": "code",
   "execution_count": 13,
   "metadata": {},
   "outputs": [
    {
     "name": "stdout",
     "output_type": "stream",
     "text": [
      "Epoch 1/5\n",
      "60000/60000 [==============================] - 8s 141us/step - loss: 0.3600 - acc: 0.8908\n",
      "Epoch 2/5\n",
      "60000/60000 [==============================] - 8s 139us/step - loss: 0.1723 - acc: 0.9495\n",
      "Epoch 3/5\n",
      "60000/60000 [==============================] - 8s 140us/step - loss: 0.1379 - acc: 0.9605\n",
      "Epoch 4/5\n",
      "60000/60000 [==============================] - 8s 140us/step - loss: 0.1253 - acc: 0.9653\n",
      "Epoch 5/5\n",
      "60000/60000 [==============================] - 8s 140us/step - loss: 0.1147 - acc: 0.9684\n"
     ]
    },
    {
     "data": {
      "text/plain": [
       "<keras.callbacks.History at 0x1258654e0>"
      ]
     },
     "execution_count": 13,
     "metadata": {},
     "output_type": "execute_result"
    }
   ],
   "source": [
    "#model fitting\n",
    "model.fit(x_train,y_train,epochs=5,batch_size=128)"
   ]
  },
  {
   "cell_type": "code",
   "execution_count": 14,
   "metadata": {},
   "outputs": [
    {
     "name": "stdout",
     "output_type": "stream",
     "text": [
      "10000/10000 [==============================] - 1s 102us/step\n",
      "0.08902132055040565 0.9763\n"
     ]
    }
   ],
   "source": [
    "#evaluation on test data\n",
    "test_loss, test_accuracy = model.evaluate(x_test,y_test)\n",
    "print(test_loss,test_accuracy)"
   ]
  },
  {
   "cell_type": "code",
   "execution_count": 15,
   "metadata": {},
   "outputs": [],
   "source": [
    "#network with dropout \n",
    "model2 = Sequential()\n",
    "model2.add(Dense(512,input_shape=(28*28,),activation='relu'))\n",
    "model2.add(Dropout(0.5))\n",
    "model2.add(Dense(10, activation='softmax'))\n",
    "model2.compile(loss='categorical_crossentropy',optimizer='rmsprop',metrics=['accuracy'])"
   ]
  },
  {
   "cell_type": "code",
   "execution_count": 16,
   "metadata": {},
   "outputs": [
    {
     "name": "stdout",
     "output_type": "stream",
     "text": [
      "Epoch 1/5\n",
      "60000/60000 [==============================] - 9s 145us/step - loss: 0.1072 - acc: 0.9714\n",
      "Epoch 2/5\n",
      "60000/60000 [==============================] - 8s 139us/step - loss: 0.1020 - acc: 0.9733\n",
      "Epoch 3/5\n",
      "60000/60000 [==============================] - 9s 142us/step - loss: 0.0947 - acc: 0.9747\n",
      "Epoch 4/5\n",
      "60000/60000 [==============================] - 8s 140us/step - loss: 0.0911 - acc: 0.9761\n",
      "Epoch 5/5\n",
      "60000/60000 [==============================] - 8s 139us/step - loss: 0.0896 - acc: 0.9768\n"
     ]
    },
    {
     "data": {
      "text/plain": [
       "<keras.callbacks.History at 0x126780f60>"
      ]
     },
     "execution_count": 16,
     "metadata": {},
     "output_type": "execute_result"
    }
   ],
   "source": [
    "#model fitting\n",
    "model.fit(x_train,y_train,epochs=5,batch_size=128)"
   ]
  },
  {
   "cell_type": "code",
   "execution_count": 17,
   "metadata": {},
   "outputs": [
    {
     "name": "stdout",
     "output_type": "stream",
     "text": [
      "10000/10000 [==============================] - 1s 91us/step\n",
      "0.08468644045892333 0.9812\n"
     ]
    }
   ],
   "source": [
    "#evaluation on test data\n",
    "test_loss, test_accuracy = model.evaluate(x_test,y_test)\n",
    "print(test_loss,test_accuracy)"
   ]
  },
  {
   "cell_type": "markdown",
   "metadata": {},
   "source": [
    "Dropout significantly improved the loss values. And, A network with 1 hidden layer and 512 neurons with dropout gave the best result. "
   ]
  }
 ],
 "metadata": {
  "kernelspec": {
   "display_name": "Python 3",
   "language": "python",
   "name": "python3"
  },
  "language_info": {
   "codemirror_mode": {
    "name": "ipython",
    "version": 3
   },
   "file_extension": ".py",
   "mimetype": "text/x-python",
   "name": "python",
   "nbconvert_exporter": "python",
   "pygments_lexer": "ipython3",
   "version": "3.6.5"
  }
 },
 "nbformat": 4,
 "nbformat_minor": 2
}
